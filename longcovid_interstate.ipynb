{
 "cells": [
  {
   "cell_type": "code",
   "execution_count": null,
   "metadata": {},
   "outputs": [],
   "source": [
    "#pip install pandas\n",
    "#pip install seaborn\n"
   ]
  },
  {
   "cell_type": "code",
   "execution_count": 8,
   "metadata": {},
   "outputs": [
    {
     "name": "stderr",
     "output_type": "stream",
     "text": [
      "Matplotlib is building the font cache; this may take a moment.\n"
     ]
    }
   ],
   "source": [
    "#pandas, sklearn, etc. \n",
    "import pandas as pd\n",
    "import seaborn as sns "
   ]
  },
  {
   "cell_type": "code",
   "execution_count": 13,
   "metadata": {},
   "outputs": [
    {
     "data": {
      "text/html": [
       "<div>\n",
       "<style scoped>\n",
       "    .dataframe tbody tr th:only-of-type {\n",
       "        vertical-align: middle;\n",
       "    }\n",
       "\n",
       "    .dataframe tbody tr th {\n",
       "        vertical-align: top;\n",
       "    }\n",
       "\n",
       "    .dataframe thead th {\n",
       "        text-align: right;\n",
       "    }\n",
       "</style>\n",
       "<table border=\"1\" class=\"dataframe\">\n",
       "  <thead>\n",
       "    <tr style=\"text-align: right;\">\n",
       "      <th></th>\n",
       "      <th>State</th>\n",
       "      <th>Jun 24 Value</th>\n",
       "      <th>Jun 24 Low CI</th>\n",
       "      <th>Jun 24 High CI</th>\n",
       "      <th>Urban</th>\n",
       "      <th>Rural</th>\n",
       "      <th>Conservative</th>\n",
       "      <th>Moderate</th>\n",
       "      <th>Liberal</th>\n",
       "      <th>Political Don't know</th>\n",
       "      <th>...</th>\n",
       "      <th>9/4/23</th>\n",
       "      <th>10/2/23</th>\n",
       "      <th>10/30/23</th>\n",
       "      <th>2/5/24</th>\n",
       "      <th>3/4/24</th>\n",
       "      <th>4/1/24</th>\n",
       "      <th>4/29/24</th>\n",
       "      <th>5/27/24</th>\n",
       "      <th>6/24/24</th>\n",
       "      <th>Avg</th>\n",
       "    </tr>\n",
       "  </thead>\n",
       "  <tbody>\n",
       "    <tr>\n",
       "      <th>0</th>\n",
       "      <td>Alabama</td>\n",
       "      <td>5.0</td>\n",
       "      <td>3.4</td>\n",
       "      <td>7.2</td>\n",
       "      <td>57.7</td>\n",
       "      <td>42.3</td>\n",
       "      <td>50.0</td>\n",
       "      <td>29.0</td>\n",
       "      <td>12.0</td>\n",
       "      <td>8.0</td>\n",
       "      <td>...</td>\n",
       "      <td>6.3</td>\n",
       "      <td>8.8</td>\n",
       "      <td>6.8</td>\n",
       "      <td>7.9</td>\n",
       "      <td>8.3</td>\n",
       "      <td>7.4</td>\n",
       "      <td>8.3</td>\n",
       "      <td>8.6</td>\n",
       "      <td>5.0</td>\n",
       "      <td>7.6</td>\n",
       "    </tr>\n",
       "    <tr>\n",
       "      <th>1</th>\n",
       "      <td>Alaska</td>\n",
       "      <td>6.7</td>\n",
       "      <td>4.3</td>\n",
       "      <td>10.0</td>\n",
       "      <td>64.9</td>\n",
       "      <td>35.1</td>\n",
       "      <td>34.0</td>\n",
       "      <td>37.0</td>\n",
       "      <td>23.0</td>\n",
       "      <td>6.0</td>\n",
       "      <td>...</td>\n",
       "      <td>9.1</td>\n",
       "      <td>4.5</td>\n",
       "      <td>5.4</td>\n",
       "      <td>9.2</td>\n",
       "      <td>7.7</td>\n",
       "      <td>8.2</td>\n",
       "      <td>5.7</td>\n",
       "      <td>6.8</td>\n",
       "      <td>6.7</td>\n",
       "      <td>7.0</td>\n",
       "    </tr>\n",
       "  </tbody>\n",
       "</table>\n",
       "<p>2 rows × 51 columns</p>\n",
       "</div>"
      ],
      "text/plain": [
       "     State  Jun 24 Value  Jun 24 Low CI  Jun 24 High CI  Urban  Rural  \\\n",
       "0  Alabama           5.0            3.4             7.2   57.7   42.3   \n",
       "1   Alaska           6.7            4.3            10.0   64.9   35.1   \n",
       "\n",
       "   Conservative  Moderate  Liberal  Political Don't know  ...  9/4/23  \\\n",
       "0          50.0      29.0     12.0                   8.0  ...     6.3   \n",
       "1          34.0      37.0     23.0                   6.0  ...     9.1   \n",
       "\n",
       "   10/2/23  10/30/23  2/5/24  3/4/24  4/1/24  4/29/24  5/27/24  6/24/24  Avg  \n",
       "0      8.8       6.8     7.9     8.3     7.4      8.3      8.6      5.0  7.6  \n",
       "1      4.5       5.4     9.2     7.7     8.2      5.7      6.8      6.7  7.0  \n",
       "\n",
       "[2 rows x 51 columns]"
      ]
     },
     "execution_count": 13,
     "metadata": {},
     "output_type": "execute_result"
    }
   ],
   "source": [
    "#load in csv\n",
    "\n",
    "df = pd.read_csv('/Users/kristinachan/Analysis/2024-08-02_longcovid_interstate/LC_household_pulse_for_BV_8.csv')\n",
    "# df.filter(like='leave').head(2)\n",
    "df.head(2)\n",
    "\n",
    "#option to make the index the state, may be more useful as the column for now"
   ]
  },
  {
   "cell_type": "code",
   "execution_count": null,
   "metadata": {},
   "outputs": [],
   "source": [
    "#you want to average the values of 1) paid leave and 2)unpaid leave separately\n",
    "#legend: color by -- subgroup of paid & unpaid\n",
    "#x-axis: longitudinal values in increasing order\n",
    "#y-axis: average rates of long covid\n",
    "#points: plot the average value for that date and subgroup\n",
    "#line graph \n",
    "\n",
    "#next steps after that: scatterplot with linear regression \n",
    "    #q: do i care about the correlation between time and increase/decreasing covid rank?... \n",
    "#can also visualize with boxplots to see if trends are more apparent\n"
   ]
  },
  {
   "cell_type": "code",
   "execution_count": null,
   "metadata": {},
   "outputs": [],
   "source": [
    "#scatterplots, etc"
   ]
  }
 ],
 "metadata": {
  "kernelspec": {
   "display_name": "Python 3 (ipykernel)",
   "language": "python",
   "name": "python3"
  },
  "language_info": {
   "codemirror_mode": {
    "name": "ipython",
    "version": 3
   },
   "file_extension": ".py",
   "mimetype": "text/x-python",
   "name": "python",
   "nbconvert_exporter": "python",
   "pygments_lexer": "ipython3",
   "version": "3.10.13"
  }
 },
 "nbformat": 4,
 "nbformat_minor": 2
}
